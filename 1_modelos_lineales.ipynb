{
  "nbformat": 4,
  "nbformat_minor": 0,
  "metadata": {
    "colab": {
      "name": "1_modelos_lineales.ipynb",
      "provenance": [],
      "collapsed_sections": [],
      "toc_visible": true,
      "authorship_tag": "ABX9TyOWJpXHYtK/HTLUnZIGkjkL",
      "include_colab_link": true
    },
    "kernelspec": {
      "name": "python3",
      "display_name": "Python 3"
    }
  },
  "cells": [
    {
      "cell_type": "markdown",
      "metadata": {
        "id": "view-in-github",
        "colab_type": "text"
      },
      "source": [
        "<a href=\"https://colab.research.google.com/github/rivb/Introduction-to-ML/blob/master/1_modelos_lineales.ipynb\" target=\"_parent\"><img src=\"https://colab.research.google.com/assets/colab-badge.svg\" alt=\"Open In Colab\"/></a>"
      ]
    },
    {
      "cell_type": "code",
      "metadata": {
        "id": "7b1sTVekZJrT",
        "colab_type": "code",
        "outputId": "bea0647e-095d-4dbb-99c1-83fe998ded27",
        "colab": {
          "base_uri": "https://localhost:8080/",
          "height": 462
        }
      },
      "source": [
        "!pip install mglearn"
      ],
      "execution_count": 0,
      "outputs": [
        {
          "output_type": "stream",
          "text": [
            "Collecting mglearn\n",
            "\u001b[?25l  Downloading https://files.pythonhosted.org/packages/fb/01/8d3630ecc767c9de96a9c46e055f2a3a5f9e14a47d3d0348a36a5005fe67/mglearn-0.1.7.tar.gz (540kB)\n",
            "\r\u001b[K     |▋                               | 10kB 16.6MB/s eta 0:00:01\r\u001b[K     |█▏                              | 20kB 1.8MB/s eta 0:00:01\r\u001b[K     |█▉                              | 30kB 2.4MB/s eta 0:00:01\r\u001b[K     |██▍                             | 40kB 1.7MB/s eta 0:00:01\r\u001b[K     |███                             | 51kB 2.0MB/s eta 0:00:01\r\u001b[K     |███▋                            | 61kB 2.3MB/s eta 0:00:01\r\u001b[K     |████▎                           | 71kB 2.5MB/s eta 0:00:01\r\u001b[K     |████▉                           | 81kB 2.7MB/s eta 0:00:01\r\u001b[K     |█████▌                          | 92kB 3.0MB/s eta 0:00:01\r\u001b[K     |██████                          | 102kB 2.8MB/s eta 0:00:01\r\u001b[K     |██████▋                         | 112kB 2.8MB/s eta 0:00:01\r\u001b[K     |███████▎                        | 122kB 2.8MB/s eta 0:00:01\r\u001b[K     |███████▉                        | 133kB 2.8MB/s eta 0:00:01\r\u001b[K     |████████▌                       | 143kB 2.8MB/s eta 0:00:01\r\u001b[K     |█████████                       | 153kB 2.8MB/s eta 0:00:01\r\u001b[K     |█████████▊                      | 163kB 2.8MB/s eta 0:00:01\r\u001b[K     |██████████▎                     | 174kB 2.8MB/s eta 0:00:01\r\u001b[K     |███████████                     | 184kB 2.8MB/s eta 0:00:01\r\u001b[K     |███████████▌                    | 194kB 2.8MB/s eta 0:00:01\r\u001b[K     |████████████▏                   | 204kB 2.8MB/s eta 0:00:01\r\u001b[K     |████████████▊                   | 215kB 2.8MB/s eta 0:00:01\r\u001b[K     |█████████████▎                  | 225kB 2.8MB/s eta 0:00:01\r\u001b[K     |██████████████                  | 235kB 2.8MB/s eta 0:00:01\r\u001b[K     |██████████████▌                 | 245kB 2.8MB/s eta 0:00:01\r\u001b[K     |███████████████▏                | 256kB 2.8MB/s eta 0:00:01\r\u001b[K     |███████████████▊                | 266kB 2.8MB/s eta 0:00:01\r\u001b[K     |████████████████▍               | 276kB 2.8MB/s eta 0:00:01\r\u001b[K     |█████████████████               | 286kB 2.8MB/s eta 0:00:01\r\u001b[K     |█████████████████▋              | 296kB 2.8MB/s eta 0:00:01\r\u001b[K     |██████████████████▏             | 307kB 2.8MB/s eta 0:00:01\r\u001b[K     |██████████████████▊             | 317kB 2.8MB/s eta 0:00:01\r\u001b[K     |███████████████████▍            | 327kB 2.8MB/s eta 0:00:01\r\u001b[K     |████████████████████            | 337kB 2.8MB/s eta 0:00:01\r\u001b[K     |████████████████████▋           | 348kB 2.8MB/s eta 0:00:01\r\u001b[K     |█████████████████████▏          | 358kB 2.8MB/s eta 0:00:01\r\u001b[K     |█████████████████████▉          | 368kB 2.8MB/s eta 0:00:01\r\u001b[K     |██████████████████████▍         | 378kB 2.8MB/s eta 0:00:01\r\u001b[K     |███████████████████████         | 389kB 2.8MB/s eta 0:00:01\r\u001b[K     |███████████████████████▋        | 399kB 2.8MB/s eta 0:00:01\r\u001b[K     |████████████████████████▎       | 409kB 2.8MB/s eta 0:00:01\r\u001b[K     |████████████████████████▉       | 419kB 2.8MB/s eta 0:00:01\r\u001b[K     |█████████████████████████▍      | 430kB 2.8MB/s eta 0:00:01\r\u001b[K     |██████████████████████████      | 440kB 2.8MB/s eta 0:00:01\r\u001b[K     |██████████████████████████▋     | 450kB 2.8MB/s eta 0:00:01\r\u001b[K     |███████████████████████████▎    | 460kB 2.8MB/s eta 0:00:01\r\u001b[K     |███████████████████████████▉    | 471kB 2.8MB/s eta 0:00:01\r\u001b[K     |████████████████████████████▌   | 481kB 2.8MB/s eta 0:00:01\r\u001b[K     |█████████████████████████████   | 491kB 2.8MB/s eta 0:00:01\r\u001b[K     |█████████████████████████████▊  | 501kB 2.8MB/s eta 0:00:01\r\u001b[K     |██████████████████████████████▎ | 512kB 2.8MB/s eta 0:00:01\r\u001b[K     |███████████████████████████████ | 522kB 2.8MB/s eta 0:00:01\r\u001b[K     |███████████████████████████████▌| 532kB 2.8MB/s eta 0:00:01\r\u001b[K     |████████████████████████████████| 542kB 2.8MB/s \n",
            "\u001b[?25hRequirement already satisfied: numpy in /usr/local/lib/python3.6/dist-packages (from mglearn) (1.17.5)\n",
            "Requirement already satisfied: matplotlib in /usr/local/lib/python3.6/dist-packages (from mglearn) (3.1.3)\n",
            "Requirement already satisfied: scikit-learn in /usr/local/lib/python3.6/dist-packages (from mglearn) (0.22.1)\n",
            "Requirement already satisfied: pandas in /usr/local/lib/python3.6/dist-packages (from mglearn) (0.25.3)\n",
            "Requirement already satisfied: pillow in /usr/local/lib/python3.6/dist-packages (from mglearn) (6.2.2)\n",
            "Requirement already satisfied: cycler in /usr/local/lib/python3.6/dist-packages (from mglearn) (0.10.0)\n",
            "Requirement already satisfied: imageio in /usr/local/lib/python3.6/dist-packages (from mglearn) (2.4.1)\n",
            "Requirement already satisfied: kiwisolver>=1.0.1 in /usr/local/lib/python3.6/dist-packages (from matplotlib->mglearn) (1.1.0)\n",
            "Requirement already satisfied: python-dateutil>=2.1 in /usr/local/lib/python3.6/dist-packages (from matplotlib->mglearn) (2.6.1)\n",
            "Requirement already satisfied: pyparsing!=2.0.4,!=2.1.2,!=2.1.6,>=2.0.1 in /usr/local/lib/python3.6/dist-packages (from matplotlib->mglearn) (2.4.6)\n",
            "Requirement already satisfied: scipy>=0.17.0 in /usr/local/lib/python3.6/dist-packages (from scikit-learn->mglearn) (1.4.1)\n",
            "Requirement already satisfied: joblib>=0.11 in /usr/local/lib/python3.6/dist-packages (from scikit-learn->mglearn) (0.14.1)\n",
            "Requirement already satisfied: pytz>=2017.2 in /usr/local/lib/python3.6/dist-packages (from pandas->mglearn) (2018.9)\n",
            "Requirement already satisfied: six in /usr/local/lib/python3.6/dist-packages (from cycler->mglearn) (1.12.0)\n",
            "Requirement already satisfied: setuptools in /usr/local/lib/python3.6/dist-packages (from kiwisolver>=1.0.1->matplotlib->mglearn) (45.2.0)\n",
            "Building wheels for collected packages: mglearn\n",
            "  Building wheel for mglearn (setup.py) ... \u001b[?25l\u001b[?25hdone\n",
            "  Created wheel for mglearn: filename=mglearn-0.1.7-py2.py3-none-any.whl size=582705 sha256=89ef73db53caa16b125fa209505655f6ff52beb244bf4cc710884f0b59e0d942\n",
            "  Stored in directory: /root/.cache/pip/wheels/74/cf/8d/04f4932d15854a36726c6210763c7127e62de28f5c8ddfcf3b\n",
            "Successfully built mglearn\n",
            "Installing collected packages: mglearn\n",
            "Successfully installed mglearn-0.1.7\n"
          ],
          "name": "stdout"
        }
      ]
    },
    {
      "cell_type": "markdown",
      "metadata": {
        "id": "OTZfZ6mq26Ht",
        "colab_type": "text"
      },
      "source": [
        "# **Regresiones Lineales**"
      ]
    },
    {
      "cell_type": "markdown",
      "metadata": {
        "id": "1gASC_Nf2TtW",
        "colab_type": "text"
      },
      "source": [
        "## **1.- Regresion Lineal**\n",
        "\n"
      ]
    },
    {
      "cell_type": "code",
      "metadata": {
        "id": "VPgakJo-10Zw",
        "colab_type": "code",
        "colab": {}
      },
      "source": [
        "from sklearn.linear_model import LinearRegression\n",
        "from sklearn.model_selection import train_test_split\n",
        "import mglearn\n",
        "\n",
        "X, y = mglearn.datasets.make_wave(n_samples=60)\n",
        "X_train, X_test, y_train, y_test = train_test_split(X,y,random_state=42)\n",
        "\n",
        "lr = LinearRegression().fit(X_train, y_train)"
      ],
      "execution_count": 0,
      "outputs": []
    },
    {
      "cell_type": "code",
      "metadata": {
        "id": "JUoQvtBwY9t2",
        "colab_type": "code",
        "outputId": "fbf8406e-6e6f-4717-9b55-f98600a3a519",
        "colab": {
          "base_uri": "https://localhost:8080/",
          "height": 51
        }
      },
      "source": [
        "print(\"Training Score  :\", lr.score(X_train,y_train))\n",
        "print(\"Test Score  :\", lr.score(X_test,y_test))"
      ],
      "execution_count": 0,
      "outputs": [
        {
          "output_type": "stream",
          "text": [
            "Training Score  : 0.6700890315075756\n",
            "Test Score  : 0.65933685968637\n"
          ],
          "name": "stdout"
        }
      ]
    },
    {
      "cell_type": "code",
      "metadata": {
        "id": "oQ9fURN5Za2R",
        "colab_type": "code",
        "colab": {}
      },
      "source": [
        "X , y = mglearn.datasets.load_extended_boston()\n",
        "\n",
        "X_train, X_test, y_train, y_test = train_test_split(X,y, random_state=0)\n",
        "\n",
        "lr = LinearRegression().fit(X_train, y_train)"
      ],
      "execution_count": 0,
      "outputs": []
    },
    {
      "cell_type": "code",
      "metadata": {
        "id": "n4R1wV00Z25T",
        "colab_type": "code",
        "outputId": "040c6f61-4999-4420-8483-f3ce3e252918",
        "colab": {
          "base_uri": "https://localhost:8080/",
          "height": 51
        }
      },
      "source": [
        "print(\"Training Score  :\", lr.score(X_train,y_train))\n",
        "print(\"Test Score  :\", lr.score(X_test,y_test))"
      ],
      "execution_count": 0,
      "outputs": [
        {
          "output_type": "stream",
          "text": [
            "Training Score  : 0.9520519609032727\n",
            "Test Score  : 0.6074721959665571\n"
          ],
          "name": "stdout"
        }
      ]
    },
    {
      "cell_type": "markdown",
      "metadata": {
        "id": "qmiKQFJrZ5nS",
        "colab_type": "text"
      },
      "source": [
        "## **2.- Regression Ridge**"
      ]
    },
    {
      "cell_type": "code",
      "metadata": {
        "id": "CKMcTKLyaDQC",
        "colab_type": "code",
        "outputId": "32ad38a5-6373-439c-e3aa-804bdc3686ef",
        "colab": {
          "base_uri": "https://localhost:8080/",
          "height": 51
        }
      },
      "source": [
        "from sklearn.linear_model import Ridge\n",
        "\n",
        "ridge = Ridge().fit(X_train, y_train)\n",
        "\n",
        "print(\"Training Score  :\", ridge.score(X_train,y_train))\n",
        "print(\"Test Score  :\", ridge.score(X_test,y_test))"
      ],
      "execution_count": 0,
      "outputs": [
        {
          "output_type": "stream",
          "text": [
            "Training Score  : 0.8857966585170941\n",
            "Test Score  : 0.7527683481744751\n"
          ],
          "name": "stdout"
        }
      ]
    },
    {
      "cell_type": "code",
      "metadata": {
        "id": "GuNcp3HYaTLy",
        "colab_type": "code",
        "outputId": "25b99176-7549-48ee-e85c-9036a2e7c446",
        "colab": {
          "base_uri": "https://localhost:8080/",
          "height": 51
        }
      },
      "source": [
        "ridge10 = Ridge(alpha=10).fit(X_train, y_train)\n",
        "print(\"Training Score  :\", ridge10.score(X_train,y_train))\n",
        "print(\"Test Score  :\", ridge10.score(X_test,y_test))"
      ],
      "execution_count": 0,
      "outputs": [
        {
          "output_type": "stream",
          "text": [
            "Training Score  : 0.7882787115369614\n",
            "Test Score  : 0.6359411489177309\n"
          ],
          "name": "stdout"
        }
      ]
    },
    {
      "cell_type": "code",
      "metadata": {
        "id": "r-rJ8GW5abp6",
        "colab_type": "code",
        "outputId": "211d1092-4814-4968-cfbf-fce2890a138a",
        "colab": {
          "base_uri": "https://localhost:8080/",
          "height": 51
        }
      },
      "source": [
        "ridge01 = Ridge(alpha=0.1).fit(X_train, y_train)\n",
        "print(\"Training Score  :\", ridge01.score(X_train,y_train))\n",
        "print(\"Test Score  :\", ridge01.score(X_test,y_test))"
      ],
      "execution_count": 0,
      "outputs": [
        {
          "output_type": "stream",
          "text": [
            "Training Score  : 0.9282273685001992\n",
            "Test Score  : 0.7722067936479818\n"
          ],
          "name": "stdout"
        }
      ]
    },
    {
      "cell_type": "markdown",
      "metadata": {
        "id": "MwX3GzGJat87",
        "colab_type": "text"
      },
      "source": [
        "## **3.- Regression Lasso**"
      ]
    },
    {
      "cell_type": "code",
      "metadata": {
        "id": "9qYqqRj2anoN",
        "colab_type": "code",
        "outputId": "98582bbf-178e-4bfa-d61a-248561fa0ea4",
        "colab": {
          "base_uri": "https://localhost:8080/",
          "height": 51
        }
      },
      "source": [
        "from sklearn.linear_model import Lasso\n",
        "\n",
        "lasso = Lasso().fit(X_train, y_train)\n",
        "\n",
        "print(\"Training Score  :\", lasso.score(X_train,y_train))\n",
        "print(\"Test Score  :\", lasso.score(X_test,y_test))\n",
        "\n"
      ],
      "execution_count": 0,
      "outputs": [
        {
          "output_type": "stream",
          "text": [
            "Training Score  : 0.29323768991114607\n",
            "Test Score  : 0.20937503255272294\n"
          ],
          "name": "stdout"
        }
      ]
    },
    {
      "cell_type": "code",
      "metadata": {
        "id": "1NoFOva9bB9f",
        "colab_type": "code",
        "outputId": "4d35f61c-b978-44b5-c4a9-f4db35d87a10",
        "colab": {
          "base_uri": "https://localhost:8080/",
          "height": 105
        }
      },
      "source": [
        "lasso001 = Lasso(alpha=0.01).fit(X_train, y_train)\n",
        "\n",
        "print(\"Training Score  :\", lasso001.score(X_train,y_train))\n",
        "print(\"Test Score  :\", lasso001.score(X_test,y_test))"
      ],
      "execution_count": 0,
      "outputs": [
        {
          "output_type": "stream",
          "text": [
            "Training Score  : 0.8961122320864716\n",
            "Test Score  : 0.7677995670886713\n"
          ],
          "name": "stdout"
        },
        {
          "output_type": "stream",
          "text": [
            "/usr/local/lib/python3.6/dist-packages/sklearn/linear_model/_coordinate_descent.py:476: ConvergenceWarning: Objective did not converge. You might want to increase the number of iterations. Duality gap: 46.90245800318007, tolerance: 3.233182126649076\n",
            "  positive)\n"
          ],
          "name": "stderr"
        }
      ]
    },
    {
      "cell_type": "code",
      "metadata": {
        "id": "G3YG9jU7bNo4",
        "colab_type": "code",
        "outputId": "e74ad1ef-3281-4802-8073-77353e209dc8",
        "colab": {
          "base_uri": "https://localhost:8080/",
          "height": 105
        }
      },
      "source": [
        "lasso00001 = Lasso(alpha=0.0001).fit(X_train, y_train)\n",
        "\n",
        "print(\"Training Score  :\", lasso00001.score(X_train,y_train))\n",
        "print(\"Test Score  :\", lasso00001.score(X_test,y_test))"
      ],
      "execution_count": 0,
      "outputs": [
        {
          "output_type": "stream",
          "text": [
            "Training Score  : 0.9420931515237063\n",
            "Test Score  : 0.6976541391663631\n"
          ],
          "name": "stdout"
        },
        {
          "output_type": "stream",
          "text": [
            "/usr/local/lib/python3.6/dist-packages/sklearn/linear_model/_coordinate_descent.py:476: ConvergenceWarning: Objective did not converge. You might want to increase the number of iterations. Duality gap: 943.9983395915502, tolerance: 3.233182126649076\n",
            "  positive)\n"
          ],
          "name": "stderr"
        }
      ]
    },
    {
      "cell_type": "markdown",
      "metadata": {
        "id": "hu3zPJxCiCut",
        "colab_type": "text"
      },
      "source": [
        "# **Clasificadores Lineales**"
      ]
    },
    {
      "cell_type": "code",
      "metadata": {
        "id": "tUIJXK4Fh0Om",
        "colab_type": "code",
        "outputId": "c9af61e6-0f39-40d5-b61e-0b8b671e860e",
        "colab": {
          "base_uri": "https://localhost:8080/",
          "height": 307
        }
      },
      "source": [
        "X,y = mglearn.datasets.make_forge()\n",
        "\n",
        "fig, axes = plt.subplots(1,2,figsize = (10,3))\n",
        "plt.suptitle(\"Linear Classifiers\")\n",
        "\n",
        "for model,ax in zip([LinearSVC(), LogisticRegression()], axes):\n",
        "  clf = model.fit(X,y)\n",
        "  mglearn.plots.plot_2d_separator(clf,X,fill=False, eps=0.5 , ax=ax, alpha=0.7)\n",
        "  ax.scatter(X[:,0],X[:,1],c=y, s=60, cmap=mglearn.cm2)\n",
        "  ax.set_title(\"%s\" % clf.__class__.__name__)"
      ],
      "execution_count": 0,
      "outputs": [
        {
          "output_type": "stream",
          "text": [
            "/usr/local/lib/python3.6/dist-packages/sklearn/utils/deprecation.py:87: FutureWarning: Function make_blobs is deprecated; Please import make_blobs directly from scikit-learn\n",
            "  warnings.warn(msg, category=FutureWarning)\n",
            "/usr/local/lib/python3.6/dist-packages/sklearn/svm/_base.py:947: ConvergenceWarning: Liblinear failed to converge, increase the number of iterations.\n",
            "  \"the number of iterations.\", ConvergenceWarning)\n"
          ],
          "name": "stderr"
        },
        {
          "output_type": "display_data",
          "data": {
            "image/png": "[encoded data removed]",
            "text/plain": [
              "<Figure size 720x216 with 2 Axes>"
            ]
          },
          "metadata": {
            "tags": []
          }
        }
      ]
    },
    {
      "cell_type": "markdown",
      "metadata": {
        "id": "VuoJXajjbX4W",
        "colab_type": "text"
      },
      "source": [
        "## **1.- Logistic Regression**"
      ]
    },
    {
      "cell_type": "code",
      "metadata": {
        "id": "RlDsfEDsbWHp",
        "colab_type": "code",
        "outputId": "5055a058-578d-49e3-d6d8-65a9aa1d3300",
        "colab": {
          "base_uri": "https://localhost:8080/",
          "height": 105
        }
      },
      "source": [
        "from sklearn.linear_model import LogisticRegression\n",
        "import matplotlib.pyplot as plt\n",
        "\n",
        "\n",
        "X, y = mglearn.datasets.make_forge()\n",
        "X_train, X_test, y_train, y_test = train_test_split(X,y, random_state=0)\n",
        "\n",
        "logr = LogisticRegression().fit(X_train,y_train)\n",
        "\n",
        "\n",
        "print(\"Training Score  :\", logr.score(X_train,y_train))\n",
        "print(\"Test Score  :\", logr.score(X_test,y_test))\n",
        "\n"
      ],
      "execution_count": 0,
      "outputs": [
        {
          "output_type": "stream",
          "text": [
            "Training Score  : 0.9473684210526315\n",
            "Test Score  : 0.8571428571428571\n"
          ],
          "name": "stdout"
        },
        {
          "output_type": "stream",
          "text": [
            "/usr/local/lib/python3.6/dist-packages/sklearn/utils/deprecation.py:87: FutureWarning: Function make_blobs is deprecated; Please import make_blobs directly from scikit-learn\n",
            "  warnings.warn(msg, category=FutureWarning)\n"
          ],
          "name": "stderr"
        }
      ]
    },
    {
      "cell_type": "markdown",
      "metadata": {
        "id": "MIpYDbBch2SG",
        "colab_type": "text"
      },
      "source": [
        "## **2.- Linear Support Vector Classifier (SVC)**"
      ]
    },
    {
      "cell_type": "code",
      "metadata": {
        "id": "C2gt_ktDhVet",
        "colab_type": "code",
        "outputId": "31e513a4-1f76-404f-de7b-3acfd4092a8f",
        "colab": {
          "base_uri": "https://localhost:8080/",
          "height": 105
        }
      },
      "source": [
        "from sklearn.svm import LinearSVC\n",
        "\n",
        "svc = LinearSVC().fit(X_train,y_train)\n",
        "\n",
        "print(\"Training Score  :\", svc.score(X_train,y_train))\n",
        "print(\"Test Score  :\", svc.score(X_test,y_test))\n"
      ],
      "execution_count": 0,
      "outputs": [
        {
          "output_type": "stream",
          "text": [
            "Training Score  : 0.9473684210526315\n",
            "Test Score  : 0.8571428571428571\n"
          ],
          "name": "stdout"
        },
        {
          "output_type": "stream",
          "text": [
            "/usr/local/lib/python3.6/dist-packages/sklearn/svm/_base.py:947: ConvergenceWarning: Liblinear failed to converge, increase the number of iterations.\n",
            "  \"the number of iterations.\", ConvergenceWarning)\n"
          ],
          "name": "stderr"
        }
      ]
    }
  ]
}