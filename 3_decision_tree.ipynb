{
  "nbformat": 4,
  "nbformat_minor": 0,
  "metadata": {
    "colab": {
      "name": "3_decision_tree.ipynb",
      "provenance": [],
      "collapsed_sections": [],
      "authorship_tag": "ABX9TyMc1gSkTgS6GkWtLplHUxE/",
      "include_colab_link": true
    },
    "kernelspec": {
      "name": "python3",
      "display_name": "Python 3"
    }
  },
  "cells": [
    {
      "cell_type": "markdown",
      "metadata": {
        "id": "view-in-github",
        "colab_type": "text"
      },
      "source": [
        "<a href=\"https://colab.research.google.com/github/rivb/Introduction-to-ML/blob/master/3_decision_tree.ipynb\" target=\"_parent\"><img src=\"https://colab.research.google.com/assets/colab-badge.svg\" alt=\"Open In Colab\"/></a>"
      ]
    },
    {
      "cell_type": "code",
      "metadata": {
        "id": "c2z0WqpnmM_m",
        "colab_type": "code",
        "colab": {}
      },
      "source": [
        "import pandas as pd\n",
        "import numpy as np\n",
        "\n",
        "from sklearn import tree\n",
        "from sklearn.tree import DecisionTreeClassifier, export_graphviz\n",
        "from sklearn.model_selection import train_test_split\n",
        "\n",
        "from matplotlib import pyplot as plt\n",
        "import seaborn as sns\n",
        "\n",
        "import graphviz\n",
        "import pydotplus\n",
        "import io\n",
        "from scipy import misc\n",
        "\n",
        "%matplotlib inline"
      ],
      "execution_count": 0,
      "outputs": []
    },
    {
      "cell_type": "code",
      "metadata": {
        "id": "TxaPUhLVzxQW",
        "colab_type": "code",
        "outputId": "9e3c19e4-6624-4140-caf3-3e8ea1bd84b7",
        "colab": {
          "base_uri": "https://localhost:8080/",
          "height": 255
        }
      },
      "source": [
        "!pip install kaggle\n",
        "\n",
        "!mkdir ~/.kaggle\n",
        "!touch ~/.kaggle/kaggle.json\n",
        "\n",
        "api_token = {\"username\":\"raimundovb\",\"key\":\"7f8e2800afe7469feb9049847de092fe\"}\n",
        "\n",
        "import json\n",
        "\n",
        "with open('/root/.kaggle/kaggle.json', 'w') as file:\n",
        "    json.dump(api_token, file)\n",
        "\n",
        "!chmod 600 ~/.kaggle/kaggle.json\n",
        "\n",
        "!kaggle config path -p /content"
      ],
      "execution_count": 0,
      "outputs": [
        {
          "output_type": "stream",
          "text": [
            "Requirement already satisfied: kaggle in /usr/local/lib/python3.6/dist-packages (1.5.6)\n",
            "Requirement already satisfied: requests in /usr/local/lib/python3.6/dist-packages (from kaggle) (2.21.0)\n",
            "Requirement already satisfied: python-dateutil in /usr/local/lib/python3.6/dist-packages (from kaggle) (2.6.1)\n",
            "Requirement already satisfied: six>=1.10 in /usr/local/lib/python3.6/dist-packages (from kaggle) (1.12.0)\n",
            "Requirement already satisfied: urllib3<1.25,>=1.21.1 in /usr/local/lib/python3.6/dist-packages (from kaggle) (1.24.3)\n",
            "Requirement already satisfied: python-slugify in /usr/local/lib/python3.6/dist-packages (from kaggle) (4.0.0)\n",
            "Requirement already satisfied: certifi in /usr/local/lib/python3.6/dist-packages (from kaggle) (2019.11.28)\n",
            "Requirement already satisfied: tqdm in /usr/local/lib/python3.6/dist-packages (from kaggle) (4.28.1)\n",
            "Requirement already satisfied: chardet<3.1.0,>=3.0.2 in /usr/local/lib/python3.6/dist-packages (from requests->kaggle) (3.0.4)\n",
            "Requirement already satisfied: idna<2.9,>=2.5 in /usr/local/lib/python3.6/dist-packages (from requests->kaggle) (2.8)\n",
            "Requirement already satisfied: text-unidecode>=1.3 in /usr/local/lib/python3.6/dist-packages (from python-slugify->kaggle) (1.3)\n",
            "mkdir: cannot create directory ‘/root/.kaggle’: File exists\n",
            "usage: kaggle config [-h] {view,set,unset} ...\n",
            "kaggle config: error: argument command: invalid choice: 'path' (choose from 'view', 'set', 'unset')\n"
          ],
          "name": "stdout"
        }
      ]
    },
    {
      "cell_type": "code",
      "metadata": {
        "id": "a9aG0nojz1o8",
        "colab_type": "code",
        "outputId": "7a5ab67f-45c3-4a28-d811-58ea5d94beaa",
        "colab": {
          "base_uri": "https://localhost:8080/",
          "height": 68
        }
      },
      "source": [
        "!kaggle datasets download -d geomack/spotifyclassification"
      ],
      "execution_count": 0,
      "outputs": [
        {
          "output_type": "stream",
          "text": [
            "Downloading spotifyclassification.zip to /content\n",
            "\r  0% 0.00/98.4k [00:00<?, ?B/s]\n",
            "\r100% 98.4k/98.4k [00:00<00:00, 85.7MB/s]\n"
          ],
          "name": "stdout"
        }
      ]
    },
    {
      "cell_type": "code",
      "metadata": {
        "id": "XpBuQFLR0Eup",
        "colab_type": "code",
        "colab": {}
      },
      "source": [
        "data = pd.read_csv('spotifyclassification.zip', compression='zip', header=0, sep=',', quotechar='\"')"
      ],
      "execution_count": 0,
      "outputs": []
    },
    {
      "cell_type": "code",
      "metadata": {
        "id": "1BGqUx92z5c5",
        "colab_type": "code",
        "outputId": "57be8514-6b84-482c-f867-85547c15faa8",
        "colab": {
          "base_uri": "https://localhost:8080/",
          "height": 334
        }
      },
      "source": [
        "data.describe()"
      ],
      "execution_count": 0,
      "outputs": [
        {
          "output_type": "execute_result",
          "data": {
            "text/html": [
              "<div>\n",
              "<style scoped>\n",
              "    .dataframe tbody tr th:only-of-type {\n",
              "        vertical-align: middle;\n",
              "    }\n",
              "\n",
              "    .dataframe tbody tr th {\n",
              "        vertical-align: top;\n",
              "    }\n",
              "\n",
              "    .dataframe thead th {\n",
              "        text-align: right;\n",
              "    }\n",
              "</style>\n",
              "<table border=\"1\" class=\"dataframe\">\n",
              "  <thead>\n",
              "    <tr style=\"text-align: right;\">\n",
              "      <th></th>\n",
              "      <th>Unnamed: 0</th>\n",
              "      <th>acousticness</th>\n",
              "      <th>danceability</th>\n",
              "      <th>duration_ms</th>\n",
              "      <th>energy</th>\n",
              "      <th>instrumentalness</th>\n",
              "      <th>key</th>\n",
              "      <th>liveness</th>\n",
              "      <th>loudness</th>\n",
              "      <th>mode</th>\n",
              "      <th>speechiness</th>\n",
              "      <th>tempo</th>\n",
              "      <th>time_signature</th>\n",
              "      <th>valence</th>\n",
              "      <th>target</th>\n",
              "    </tr>\n",
              "  </thead>\n",
              "  <tbody>\n",
              "    <tr>\n",
              "      <th>count</th>\n",
              "      <td>2017.000000</td>\n",
              "      <td>2017.000000</td>\n",
              "      <td>2017.000000</td>\n",
              "      <td>2.017000e+03</td>\n",
              "      <td>2017.000000</td>\n",
              "      <td>2017.000000</td>\n",
              "      <td>2017.000000</td>\n",
              "      <td>2017.000000</td>\n",
              "      <td>2017.000000</td>\n",
              "      <td>2017.000000</td>\n",
              "      <td>2017.000000</td>\n",
              "      <td>2017.000000</td>\n",
              "      <td>2017.000000</td>\n",
              "      <td>2017.000000</td>\n",
              "      <td>2017.000000</td>\n",
              "    </tr>\n",
              "    <tr>\n",
              "      <th>mean</th>\n",
              "      <td>1008.000000</td>\n",
              "      <td>0.187590</td>\n",
              "      <td>0.618422</td>\n",
              "      <td>2.463062e+05</td>\n",
              "      <td>0.681577</td>\n",
              "      <td>0.133286</td>\n",
              "      <td>5.342588</td>\n",
              "      <td>0.190844</td>\n",
              "      <td>-7.085624</td>\n",
              "      <td>0.612295</td>\n",
              "      <td>0.092664</td>\n",
              "      <td>121.603272</td>\n",
              "      <td>3.968270</td>\n",
              "      <td>0.496815</td>\n",
              "      <td>0.505702</td>\n",
              "    </tr>\n",
              "    <tr>\n",
              "      <th>std</th>\n",
              "      <td>582.402066</td>\n",
              "      <td>0.259989</td>\n",
              "      <td>0.161029</td>\n",
              "      <td>8.198181e+04</td>\n",
              "      <td>0.210273</td>\n",
              "      <td>0.273162</td>\n",
              "      <td>3.648240</td>\n",
              "      <td>0.155453</td>\n",
              "      <td>3.761684</td>\n",
              "      <td>0.487347</td>\n",
              "      <td>0.089931</td>\n",
              "      <td>26.685604</td>\n",
              "      <td>0.255853</td>\n",
              "      <td>0.247195</td>\n",
              "      <td>0.500091</td>\n",
              "    </tr>\n",
              "    <tr>\n",
              "      <th>min</th>\n",
              "      <td>0.000000</td>\n",
              "      <td>0.000003</td>\n",
              "      <td>0.122000</td>\n",
              "      <td>1.604200e+04</td>\n",
              "      <td>0.014800</td>\n",
              "      <td>0.000000</td>\n",
              "      <td>0.000000</td>\n",
              "      <td>0.018800</td>\n",
              "      <td>-33.097000</td>\n",
              "      <td>0.000000</td>\n",
              "      <td>0.023100</td>\n",
              "      <td>47.859000</td>\n",
              "      <td>1.000000</td>\n",
              "      <td>0.034800</td>\n",
              "      <td>0.000000</td>\n",
              "    </tr>\n",
              "    <tr>\n",
              "      <th>25%</th>\n",
              "      <td>504.000000</td>\n",
              "      <td>0.009630</td>\n",
              "      <td>0.514000</td>\n",
              "      <td>2.000150e+05</td>\n",
              "      <td>0.563000</td>\n",
              "      <td>0.000000</td>\n",
              "      <td>2.000000</td>\n",
              "      <td>0.092300</td>\n",
              "      <td>-8.394000</td>\n",
              "      <td>0.000000</td>\n",
              "      <td>0.037500</td>\n",
              "      <td>100.189000</td>\n",
              "      <td>4.000000</td>\n",
              "      <td>0.295000</td>\n",
              "      <td>0.000000</td>\n",
              "    </tr>\n",
              "    <tr>\n",
              "      <th>50%</th>\n",
              "      <td>1008.000000</td>\n",
              "      <td>0.063300</td>\n",
              "      <td>0.631000</td>\n",
              "      <td>2.292610e+05</td>\n",
              "      <td>0.715000</td>\n",
              "      <td>0.000076</td>\n",
              "      <td>6.000000</td>\n",
              "      <td>0.127000</td>\n",
              "      <td>-6.248000</td>\n",
              "      <td>1.000000</td>\n",
              "      <td>0.054900</td>\n",
              "      <td>121.427000</td>\n",
              "      <td>4.000000</td>\n",
              "      <td>0.492000</td>\n",
              "      <td>1.000000</td>\n",
              "    </tr>\n",
              "    <tr>\n",
              "      <th>75%</th>\n",
              "      <td>1512.000000</td>\n",
              "      <td>0.265000</td>\n",
              "      <td>0.738000</td>\n",
              "      <td>2.703330e+05</td>\n",
              "      <td>0.846000</td>\n",
              "      <td>0.054000</td>\n",
              "      <td>9.000000</td>\n",
              "      <td>0.247000</td>\n",
              "      <td>-4.746000</td>\n",
              "      <td>1.000000</td>\n",
              "      <td>0.108000</td>\n",
              "      <td>137.849000</td>\n",
              "      <td>4.000000</td>\n",
              "      <td>0.691000</td>\n",
              "      <td>1.000000</td>\n",
              "    </tr>\n",
              "    <tr>\n",
              "      <th>max</th>\n",
              "      <td>2016.000000</td>\n",
              "      <td>0.995000</td>\n",
              "      <td>0.984000</td>\n",
              "      <td>1.004627e+06</td>\n",
              "      <td>0.998000</td>\n",
              "      <td>0.976000</td>\n",
              "      <td>11.000000</td>\n",
              "      <td>0.969000</td>\n",
              "      <td>-0.307000</td>\n",
              "      <td>1.000000</td>\n",
              "      <td>0.816000</td>\n",
              "      <td>219.331000</td>\n",
              "      <td>5.000000</td>\n",
              "      <td>0.992000</td>\n",
              "      <td>1.000000</td>\n",
              "    </tr>\n",
              "  </tbody>\n",
              "</table>\n",
              "</div>"
            ],
            "text/plain": [
              "        Unnamed: 0  acousticness  ...      valence       target\n",
              "count  2017.000000   2017.000000  ...  2017.000000  2017.000000\n",
              "mean   1008.000000      0.187590  ...     0.496815     0.505702\n",
              "std     582.402066      0.259989  ...     0.247195     0.500091\n",
              "min       0.000000      0.000003  ...     0.034800     0.000000\n",
              "25%     504.000000      0.009630  ...     0.295000     0.000000\n",
              "50%    1008.000000      0.063300  ...     0.492000     1.000000\n",
              "75%    1512.000000      0.265000  ...     0.691000     1.000000\n",
              "max    2016.000000      0.995000  ...     0.992000     1.000000\n",
              "\n",
              "[8 rows x 15 columns]"
            ]
          },
          "metadata": {
            "tags": []
          },
          "execution_count": 8
        }
      ]
    },
    {
      "cell_type": "code",
      "metadata": {
        "id": "w11R1Rel0XVh",
        "colab_type": "code",
        "outputId": "38955982-b75d-4331-a165-1c7f36e81fd8",
        "colab": {
          "base_uri": "https://localhost:8080/",
          "height": 34
        }
      },
      "source": [
        "#split data: train set and training set\n",
        "train, test = train_test_split(data, test_size = 0.15)\n",
        "print(\"Training size: {}; Test size: {}\".format(len(train), len(test)))"
      ],
      "execution_count": 0,
      "outputs": [
        {
          "output_type": "stream",
          "text": [
            "Training size: 1714; Test size: 303\n"
          ],
          "name": "stdout"
        }
      ]
    },
    {
      "cell_type": "markdown",
      "metadata": {
        "id": "iXIh8O9v0lWo",
        "colab_type": "text"
      },
      "source": [
        "## **1.- Decision Tree Classifier**"
      ]
    },
    {
      "cell_type": "code",
      "metadata": {
        "id": "nNtcnEbe0hpw",
        "colab_type": "code",
        "colab": {}
      },
      "source": [
        "c = DecisionTreeClassifier(min_samples_split = 100)"
      ],
      "execution_count": 0,
      "outputs": []
    },
    {
      "cell_type": "code",
      "metadata": {
        "id": "ZnYmHL6Q0rdW",
        "colab_type": "code",
        "colab": {}
      },
      "source": [
        "features = [\"danceability\", \"loudness\", \"valence\", \"energy\", \"instrumentalness\",\"acousticness\",\"key\",\"instrumentalness\"]"
      ],
      "execution_count": 0,
      "outputs": []
    },
    {
      "cell_type": "code",
      "metadata": {
        "id": "jtfFsciK0uEQ",
        "colab_type": "code",
        "colab": {}
      },
      "source": [
        "X_train = train[features]\n",
        "Y_train= train[\"target\"]\n",
        "\n",
        "X_test = train[features]\n",
        "Y_test= train[\"target\"]"
      ],
      "execution_count": 0,
      "outputs": []
    },
    {
      "cell_type": "code",
      "metadata": {
        "id": "v0Hvsgr70yB9",
        "colab_type": "code",
        "colab": {}
      },
      "source": [
        "dt = c.fit(X_train, Y_train)"
      ],
      "execution_count": 0,
      "outputs": []
    },
    {
      "cell_type": "code",
      "metadata": {
        "id": "ZA5CIkKR056M",
        "colab_type": "code",
        "outputId": "761a8afd-b209-4595-8c47-d1a5187dda07",
        "colab": {
          "base_uri": "https://localhost:8080/",
          "height": 51
        }
      },
      "source": [
        "print(\"Training Score   :\", c.score(X_train, Y_train))\n",
        "print(\"Test Score   :\", c.score(X_test,Y_test))"
      ],
      "execution_count": 0,
      "outputs": [
        {
          "output_type": "stream",
          "text": [
            "Training Score   : 0.7584597432905484\n",
            "Test Score   : 0.7584597432905484\n"
          ],
          "name": "stdout"
        }
      ]
    },
    {
      "cell_type": "markdown",
      "metadata": {
        "id": "UImui_1m1kPB",
        "colab_type": "text"
      },
      "source": [
        "## **2.- Random Forest**"
      ]
    },
    {
      "cell_type": "code",
      "metadata": {
        "id": "wsdqqgQy1jtZ",
        "colab_type": "code",
        "outputId": "e88f5c8e-337a-48b0-b586-33ff3546a588",
        "colab": {
          "base_uri": "https://localhost:8080/",
          "height": 51
        }
      },
      "source": [
        "from sklearn.ensemble import RandomForestClassifier\n",
        "\n",
        "c = RandomForestClassifier(min_samples_split = 100)\n",
        "\n",
        "dt = c.fit(X_train, Y_train)\n",
        "\n",
        "print(\"Training Score   :\", c.score(X_train, Y_train))\n",
        "print(\"Test Score   :\", c.score(X_test,Y_test))\n"
      ],
      "execution_count": 0,
      "outputs": [
        {
          "output_type": "stream",
          "text": [
            "Training Score   : 0.7747957992998833\n",
            "Test Score   : 0.7747957992998833\n"
          ],
          "name": "stdout"
        }
      ]
    }
  ]
}