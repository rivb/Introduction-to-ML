{
  "nbformat": 4,
  "nbformat_minor": 0,
  "metadata": {
    "colab": {
      "name": "2_sentiment_analysis.ipynb",
      "provenance": [],
      "authorship_tag": "ABX9TyNZKkMPe7Ukvy2J6ZN6kH1o",
      "include_colab_link": true
    },
    "kernelspec": {
      "name": "python3",
      "display_name": "Python 3"
    }
  },
  "cells": [
    {
      "cell_type": "markdown",
      "metadata": {
        "id": "view-in-github",
        "colab_type": "text"
      },
      "source": [
        "<a href=\"https://colab.research.google.com/github/rivb/Introduction-to-ML/blob/master/2_sentiment_analysis.ipynb\" target=\"_parent\"><img src=\"https://colab.research.google.com/assets/colab-badge.svg\" alt=\"Open In Colab\"/></a>"
      ]
    },
    {
      "cell_type": "code",
      "metadata": {
        "id": "7Q7tH07a43Oe",
        "colab_type": "code",
        "colab": {}
      },
      "source": [
        "from textblob import TextBlob"
      ],
      "execution_count": 0,
      "outputs": []
    },
    {
      "cell_type": "code",
      "metadata": {
        "id": "UXLxL52ZA83m",
        "colab_type": "code",
        "outputId": "95a1e410-3584-4a98-b507-3f62feed57a3",
        "colab": {
          "base_uri": "https://localhost:8080/",
          "height": 255
        }
      },
      "source": [
        "!python -m textblob.download_corpora"
      ],
      "execution_count": 0,
      "outputs": [
        {
          "output_type": "stream",
          "text": [
            "[nltk_data] Downloading package brown to /root/nltk_data...\n",
            "[nltk_data]   Unzipping corpora/brown.zip.\n",
            "[nltk_data] Downloading package punkt to /root/nltk_data...\n",
            "[nltk_data]   Unzipping tokenizers/punkt.zip.\n",
            "[nltk_data] Downloading package wordnet to /root/nltk_data...\n",
            "[nltk_data]   Unzipping corpora/wordnet.zip.\n",
            "[nltk_data] Downloading package averaged_perceptron_tagger to\n",
            "[nltk_data]     /root/nltk_data...\n",
            "[nltk_data]   Unzipping taggers/averaged_perceptron_tagger.zip.\n",
            "[nltk_data] Downloading package conll2000 to /root/nltk_data...\n",
            "[nltk_data]   Unzipping corpora/conll2000.zip.\n",
            "[nltk_data] Downloading package movie_reviews to /root/nltk_data...\n",
            "[nltk_data]   Unzipping corpora/movie_reviews.zip.\n",
            "Finished.\n"
          ],
          "name": "stdout"
        }
      ]
    },
    {
      "cell_type": "code",
      "metadata": {
        "id": "-eHeoa-8Arrd",
        "colab_type": "code",
        "colab": {}
      },
      "source": [
        "wiki = TextBlob(\"Hola. .mi reclamo es el siguiente unas semanas atrás me robaron el celular y lo reporte a wom con el chip lo cual en el momento lo bloquiadron .pero pude recuperan el celular menos el chip llame a la compañia y me dijeron que me acercara a la sucursal más cercana para realizar el desbloqueo del aparato y recuperar el chip voy y me dicen que en tres horas estará desbloquiado am pasado 3 días y e llamado varias veces ye dicen que no lo pueden desbloquiar asta que pague la deuda de wom si nisiquira e podido ocupar el plan de que me.esyan ablando aparte el aparato es mío no de wom la línea puede ser porque el plan pero el celular es mío no sean sinvergüenza y desbloquee algo que no es suyo\")"
      ],
      "execution_count": 0,
      "outputs": []
    },
    {
      "cell_type": "code",
      "metadata": {
        "id": "2IB0dqAfBmBC",
        "colab_type": "code",
        "outputId": "916f288a-752b-49b8-a41f-119466a4264e",
        "colab": {
          "base_uri": "https://localhost:8080/",
          "height": 54
        }
      },
      "source": [
        "w = wiki.translate(to='en')\n",
        "print(w)"
      ],
      "execution_count": 0,
      "outputs": [
        {
          "output_type": "stream",
          "text": [
            "Hi. My claim is the following a few weeks ago my cell phone was stolen and I reported it to wom with the chip which at the time was blocked. But I could retrieve the cell phone unless the chip called the company and they told me to approach the branch closest to the device to unlock the device and recover the chip I go and they tell me that in three hours it will be unlocked for 3 days and called several times and they say that they cannot unlock it until they pay the wom debt if they have not been able to occupy the plan that they are talking to me apart the device is mine not wom the line can be because the plan but the cell phone is mine don't be scoundrel and unlock something that is not yours\n"
          ],
          "name": "stdout"
        }
      ]
    },
    {
      "cell_type": "code",
      "metadata": {
        "id": "_NPpFJ3uIuN8",
        "colab_type": "code",
        "outputId": "3b62ff28-994a-4101-e4cc-722161b9e10c",
        "colab": {
          "base_uri": "https://localhost:8080/",
          "height": 1000
        }
      },
      "source": [
        "w.tags"
      ],
      "execution_count": 0,
      "outputs": [
        {
          "output_type": "execute_result",
          "data": {
            "text/plain": [
              "[('Hi', 'NNP'),\n",
              " ('My', 'PRP$'),\n",
              " ('claim', 'NN'),\n",
              " ('is', 'VBZ'),\n",
              " ('the', 'DT'),\n",
              " ('following', 'VBG'),\n",
              " ('a', 'DT'),\n",
              " ('few', 'JJ'),\n",
              " ('weeks', 'NNS'),\n",
              " ('ago', 'IN'),\n",
              " ('my', 'PRP$'),\n",
              " ('cell', 'NN'),\n",
              " ('phone', 'NN'),\n",
              " ('was', 'VBD'),\n",
              " ('stolen', 'VBN'),\n",
              " ('and', 'CC'),\n",
              " ('I', 'PRP'),\n",
              " ('reported', 'VBD'),\n",
              " ('it', 'PRP'),\n",
              " ('to', 'TO'),\n",
              " ('wom', 'VB'),\n",
              " ('with', 'IN'),\n",
              " ('the', 'DT'),\n",
              " ('chip', 'NN'),\n",
              " ('which', 'WDT'),\n",
              " ('at', 'IN'),\n",
              " ('the', 'DT'),\n",
              " ('time', 'NN'),\n",
              " ('was', 'VBD'),\n",
              " ('blocked', 'VBN'),\n",
              " ('But', 'CC'),\n",
              " ('I', 'PRP'),\n",
              " ('could', 'MD'),\n",
              " ('retrieve', 'VB'),\n",
              " ('the', 'DT'),\n",
              " ('cell', 'NN'),\n",
              " ('phone', 'NN'),\n",
              " ('unless', 'IN'),\n",
              " ('the', 'DT'),\n",
              " ('chip', 'NN'),\n",
              " ('called', 'VBD'),\n",
              " ('the', 'DT'),\n",
              " ('company', 'NN'),\n",
              " ('and', 'CC'),\n",
              " ('they', 'PRP'),\n",
              " ('told', 'VBD'),\n",
              " ('me', 'PRP'),\n",
              " ('to', 'TO'),\n",
              " ('approach', 'VB'),\n",
              " ('the', 'DT'),\n",
              " ('branch', 'NN'),\n",
              " ('closest', 'JJS'),\n",
              " ('to', 'TO'),\n",
              " ('the', 'DT'),\n",
              " ('device', 'NN'),\n",
              " ('to', 'TO'),\n",
              " ('unlock', 'VB'),\n",
              " ('the', 'DT'),\n",
              " ('device', 'NN'),\n",
              " ('and', 'CC'),\n",
              " ('recover', 'VB'),\n",
              " ('the', 'DT'),\n",
              " ('chip', 'NN'),\n",
              " ('I', 'PRP'),\n",
              " ('go', 'VBP'),\n",
              " ('and', 'CC'),\n",
              " ('they', 'PRP'),\n",
              " ('tell', 'VBP'),\n",
              " ('me', 'PRP'),\n",
              " ('that', 'IN'),\n",
              " ('in', 'IN'),\n",
              " ('three', 'CD'),\n",
              " ('hours', 'NNS'),\n",
              " ('it', 'PRP'),\n",
              " ('will', 'MD'),\n",
              " ('be', 'VB'),\n",
              " ('unlocked', 'VBN'),\n",
              " ('for', 'IN'),\n",
              " ('3', 'CD'),\n",
              " ('days', 'NNS'),\n",
              " ('and', 'CC'),\n",
              " ('called', 'VBD'),\n",
              " ('several', 'JJ'),\n",
              " ('times', 'NNS'),\n",
              " ('and', 'CC'),\n",
              " ('they', 'PRP'),\n",
              " ('say', 'VBP'),\n",
              " ('that', 'IN'),\n",
              " ('they', 'PRP'),\n",
              " ('can', 'MD'),\n",
              " ('not', 'RB'),\n",
              " ('unlock', 'VB'),\n",
              " ('it', 'PRP'),\n",
              " ('until', 'IN'),\n",
              " ('they', 'PRP'),\n",
              " ('pay', 'VBP'),\n",
              " ('the', 'DT'),\n",
              " ('wom', 'JJ'),\n",
              " ('debt', 'NN'),\n",
              " ('if', 'IN'),\n",
              " ('they', 'PRP'),\n",
              " ('have', 'VBP'),\n",
              " ('not', 'RB'),\n",
              " ('been', 'VBN'),\n",
              " ('able', 'JJ'),\n",
              " ('to', 'TO'),\n",
              " ('occupy', 'VB'),\n",
              " ('the', 'DT'),\n",
              " ('plan', 'NN'),\n",
              " ('that', 'IN'),\n",
              " ('they', 'PRP'),\n",
              " ('are', 'VBP'),\n",
              " ('talking', 'VBG'),\n",
              " ('to', 'TO'),\n",
              " ('me', 'PRP'),\n",
              " ('apart', 'VB'),\n",
              " ('the', 'DT'),\n",
              " ('device', 'NN'),\n",
              " ('is', 'VBZ'),\n",
              " ('mine', 'JJ'),\n",
              " ('not', 'RB'),\n",
              " ('wom', 'IN'),\n",
              " ('the', 'DT'),\n",
              " ('line', 'NN'),\n",
              " ('can', 'MD'),\n",
              " ('be', 'VB'),\n",
              " ('because', 'IN'),\n",
              " ('the', 'DT'),\n",
              " ('plan', 'NN'),\n",
              " ('but', 'CC'),\n",
              " ('the', 'DT'),\n",
              " ('cell', 'NN'),\n",
              " ('phone', 'NN'),\n",
              " ('is', 'VBZ'),\n",
              " ('mine', 'JJ'),\n",
              " ('do', 'VBP'),\n",
              " (\"n't\", 'RB'),\n",
              " ('be', 'VB'),\n",
              " ('scoundrel', 'JJ'),\n",
              " ('and', 'CC'),\n",
              " ('unlock', 'JJ'),\n",
              " ('something', 'NN'),\n",
              " ('that', 'WDT'),\n",
              " ('is', 'VBZ'),\n",
              " ('not', 'RB'),\n",
              " ('yours', 'NNS')]"
            ]
          },
          "metadata": {
            "tags": []
          },
          "execution_count": 35
        }
      ]
    },
    {
      "cell_type": "code",
      "metadata": {
        "id": "elckReb9BJFC",
        "colab_type": "code",
        "outputId": "9044fc07-a2e0-43b5-acad-c7ed50a2f57f",
        "colab": {
          "base_uri": "https://localhost:8080/",
          "height": 34
        }
      },
      "source": [
        "w.sentiment"
      ],
      "execution_count": 0,
      "outputs": [
        {
          "output_type": "execute_result",
          "data": {
            "text/plain": [
              "Sentiment(polarity=0.075, subjectivity=0.20625)"
            ]
          },
          "metadata": {
            "tags": []
          },
          "execution_count": 34
        }
      ]
    },
    {
      "cell_type": "code",
      "metadata": {
        "id": "_uJN8kpAWxaN",
        "colab_type": "code",
        "colab": {}
      },
      "source": [
        "https://www.youtube.com/watch?v=3Pzni2yfGUQ"
      ],
      "execution_count": 0,
      "outputs": []
    }
  ]
}